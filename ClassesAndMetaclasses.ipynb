{
 "metadata": {
  "name": ""
 },
 "nbformat": 3,
 "nbformat_minor": 0,
 "worksheets": [
  {
   "cells": [
    {
     "cell_type": "markdown",
     "metadata": {},
     "source": [
      "# Talk: Classes and Metaclasses\n",
      "_Speaker: V. James Powell_\n",
      "\n",
      "(goes by James)  \n",
      "From Houston TX, but moved to New York City, where he runs the Python Meetup.com group\u2026 THE 6TH LARGEST MEETUP GROUP IN THE WORLD!\n",
      "\n",
      "Enormous amount of interest in Python in the academic, scientific, finance, and web programming communities. NY is no exception. If you are ever there go to the meetup.\n",
      "\n",
      "Blog: seriously.dontusethiscode.com  \n",
      "Email: james@nycpython.com\n",
      "\n",
      "_Doing presentation in IPython Notebook_"
     ]
    },
    {
     "cell_type": "markdown",
     "metadata": {},
     "source": [
      "## Contours of classes\n",
      "\n",
      "Instance methods are dynamically created when you call them. So `instance.method is not instance.method`. As soon as the reference incrementor is executed, the memory location is changed.\n",
      "\n",
      "You can't reassign __methods__ on an instance. The interpreter looks at the type object, not the instance.\n",
      "\n",
      "You can use dis (`from dis import dis`) to disassemble a Python object and see byte codes. You can grep for those in the Python source to see what is happening underneath.\n",
      "\n",
      "You are free to create your own object model if you want."
     ]
    },
    {
     "cell_type": "code",
     "collapsed": false,
     "input": [
      "from sys import version_info\n",
      "version_info"
     ],
     "language": "python",
     "metadata": {},
     "outputs": [
      {
       "metadata": {},
       "output_type": "pyout",
       "prompt_number": 1,
       "text": [
        "sys.version_info(major=2, minor=7, micro=5, releaselevel='final', serial=0)"
       ]
      }
     ],
     "prompt_number": 1
    },
    {
     "cell_type": "code",
     "collapsed": false,
     "input": [
      "from math import sqrt\n",
      "EUCLIDIAN, MANHATTAN = object(), object()\n",
      "\n",
      "class Mob(object): # he's using python 3 so he doesn't have to inherit from object\n",
      "    def __new__(cls, *args, **kwargs):\n",
      "        return object.__new__(cls, *args, **kwargs)\n",
      "    \n",
      "    def __init__(self, x, y):\n",
      "        self.x, self.y = x, y\n",
      "        \n",
      "    def __str__(self):\n",
      "        return repr(self)\n",
      "    \n",
      "    def __repr__(self):\n",
      "        # use type(self).__name__ so subclasses use correct class name\n",
      "        return '{0.__name__}({1.x}, {1.y})'.format(type(self), self)\n",
      "    \n",
      "    @property\n",
      "    def x(self):\n",
      "        return self._x\n",
      "    \n",
      "    @x.setter\n",
      "    def x(self, value):\n",
      "        if value < 0:\n",
      "            raise ValueError(\"can't move outside of the arena\")\n",
      "        self._x = value\n",
      "        \n",
      "    def move(self, x, y):\n",
      "        self.x, self.y = x, y\n",
      "        \n",
      "    @classmethod\n",
      "    def mob_type(cls):\n",
      "        return cls.MOB_TYPE\n",
      "    \n",
      "    @staticmethod\n",
      "    def distance(mob1, mob2):\n",
      "        return sqrt((mob1.x-mob2.x)**2 + (mob1.y-mob2.y)**2)\n",
      "    \n",
      "    # you could put conditions here too\n",
      "    # if GAME_TYPE is EUCLIDIAN:\n",
      "    #    @staticmethod\n",
      "    #    def distance(mob1, mob2):\n",
      "    #        ...\n",
      "    # else:\n",
      "    #    @staticmethod\n",
      "    #    def distance(mob1, mob2):\n",
      "    #        # a different calculation\n",
      "    \n",
      "class Monster(Mob):\n",
      "    MOB_TYPE = 'bigger mob'\n",
      "    \n",
      "    def __call__(self):\n",
      "        return \"Mob attacks\"\n",
      "\n",
      "griffen = Monster(0,0)\n",
      "tarasque = Monster(10,10)\n",
      "    \n",
      "print(Mob.distance(griffen, tarasque)) # python 3 style print statement"
     ],
     "language": "python",
     "metadata": {},
     "outputs": [
      {
       "output_type": "stream",
       "stream": "stdout",
       "text": [
        "14.1421356237\n"
       ]
      }
     ],
     "prompt_number": 11
    },
    {
     "cell_type": "code",
     "collapsed": false,
     "input": [
      "assert Monster is Monster\n",
      "assert tarasque is tarasque\n",
      "print(list(map(id, [tarasque.move, tarasque.move])))"
     ],
     "language": "python",
     "metadata": {},
     "outputs": [
      {
       "output_type": "stream",
       "stream": "stdout",
       "text": [
        "[4492920384, 4492919984]\n"
       ]
      }
     ],
     "prompt_number": 12
    },
    {
     "cell_type": "code",
     "collapsed": false,
     "input": [
      "griffen.__call__ = lambda self: \"Monster flees\"\n",
      "griffen()"
     ],
     "language": "python",
     "metadata": {},
     "outputs": [
      {
       "metadata": {},
       "output_type": "pyout",
       "prompt_number": 16,
       "text": [
        "'Mob attacks'"
       ]
      }
     ],
     "prompt_number": 16
    },
    {
     "cell_type": "code",
     "collapsed": false,
     "input": [
      "from dis import dis\n",
      "\n",
      "def create_monster():\n",
      "    return Monster(10, 10)\n",
      "\n",
      "dis(create_monster)"
     ],
     "language": "python",
     "metadata": {},
     "outputs": [
      {
       "output_type": "stream",
       "stream": "stdout",
       "text": [
        "  4           0 LOAD_GLOBAL              0 (Monster)\n",
        "              3 LOAD_CONST               1 (10)\n",
        "              6 LOAD_CONST               1 (10)\n",
        "              9 CALL_FUNCTION            2\n",
        "             12 RETURN_VALUE        \n"
       ]
      }
     ],
     "prompt_number": 17
    },
    {
     "cell_type": "markdown",
     "metadata": {},
     "source": [
      "The cell above lists byte codes. You can grep for them in the python source code to see how they are interpreted. You can grep for `CALL_FUNCTION` to see what happens when this function is called."
     ]
    },
    {
     "cell_type": "code",
     "collapsed": false,
     "input": [
      "def create_monster_type():\n",
      "    class AttackableMonster(Monster):\n",
      "        def __init__(self, hp, *args, **kwargs):\n",
      "            self.hp = hp\n",
      "            Monster.__init__(*args, **kwargs)\n",
      "            \n",
      "dis(create_monster_type)"
     ],
     "language": "python",
     "metadata": {},
     "outputs": [
      {
       "output_type": "stream",
       "stream": "stdout",
       "text": [
        "  2           0 LOAD_CONST               1 ('AttackableMonster')\n",
        "              3 LOAD_GLOBAL              0 (Monster)\n",
        "              6 BUILD_TUPLE              1\n",
        "              9 LOAD_CONST               2 (<code object AttackableMonster at 0x10cc044b0, file \"<ipython-input-18-0eb37456a73e>\", line 2>)\n",
        "             12 MAKE_FUNCTION            0\n",
        "             15 CALL_FUNCTION            0\n",
        "             18 BUILD_CLASS         \n",
        "             19 STORE_FAST               0 (AttackableMonster)\n",
        "             22 LOAD_CONST               0 (None)\n",
        "             25 RETURN_VALUE        \n"
       ]
      }
     ],
     "prompt_number": 18
    },
    {
     "cell_type": "markdown",
     "metadata": {},
     "source": [
      "`BUILD_CLASS` above is what's interesting."
     ]
    },
    {
     "cell_type": "code",
     "collapsed": false,
     "input": [
      "class Boss(Monster):\n",
      "    def __init__(self, prize, *args, **kwargs):\n",
      "        self.prize = prize\n",
      "        Monster.__init__(*args, **kwargs)\n",
      "        \n",
      "assert issubclass(Monster, Mob) # make sure code will blow up if someone changes that base class"
     ],
     "language": "python",
     "metadata": {},
     "outputs": [],
     "prompt_number": 20
    },
    {
     "cell_type": "code",
     "collapsed": false,
     "input": [
      "x = [1,2,3,4]\n",
      "\n",
      "from collections import Iterable\n",
      "isinstance(x, Iterable)"
     ],
     "language": "python",
     "metadata": {},
     "outputs": [
      {
       "metadata": {},
       "output_type": "pyout",
       "prompt_number": 21,
       "text": [
        "True"
       ]
      }
     ],
     "prompt_number": 21
    },
    {
     "cell_type": "markdown",
     "metadata": {},
     "source": [
      "Those are examples of how a derived class can put a contraint on the base class. But how can the base class put a contraint on the derived class?"
     ]
    },
    {
     "cell_type": "markdown",
     "metadata": {},
     "source": [
      "What if we want to make sure you can never create a monster that can be moved outside of the arena?"
     ]
    },
    {
     "cell_type": "code",
     "collapsed": false,
     "input": [
      "class metaclass(type):\n",
      "    def __init__(self, name, bases, body):\n",
      "        if name == 'Derived':\n",
      "            raise ValueError(\"I don't like that name\")\n",
      "        return type.__init__(self, name, bases, body)\n",
      "\n",
      "class Base(object):\n",
      "    __metaclass__ = metaclass\n",
      "    pass\n",
      "        \n",
      "class Derived(Base):\n",
      "    pass"
     ],
     "language": "python",
     "metadata": {},
     "outputs": [
      {
       "ename": "ValueError",
       "evalue": "I don't like that name",
       "output_type": "pyerr",
       "traceback": [
        "\u001b[0;31m---------------------------------------------------------------------------\u001b[0m\n\u001b[0;31mValueError\u001b[0m                                Traceback (most recent call last)",
        "\u001b[0;32m<ipython-input-25-4028b39b3e6e>\u001b[0m in \u001b[0;36m<module>\u001b[0;34m()\u001b[0m\n\u001b[1;32m      9\u001b[0m     \u001b[0;32mpass\u001b[0m\u001b[0;34m\u001b[0m\u001b[0m\n\u001b[1;32m     10\u001b[0m \u001b[0;34m\u001b[0m\u001b[0m\n\u001b[0;32m---> 11\u001b[0;31m \u001b[0;32mclass\u001b[0m \u001b[0mDerived\u001b[0m\u001b[0;34m(\u001b[0m\u001b[0mBase\u001b[0m\u001b[0;34m)\u001b[0m\u001b[0;34m:\u001b[0m\u001b[0;34m\u001b[0m\u001b[0m\n\u001b[0m\u001b[1;32m     12\u001b[0m     \u001b[0;32mpass\u001b[0m\u001b[0;34m\u001b[0m\u001b[0m\n",
        "\u001b[0;32m<ipython-input-25-4028b39b3e6e>\u001b[0m in \u001b[0;36m__init__\u001b[0;34m(self, name, bases, body)\u001b[0m\n\u001b[1;32m      2\u001b[0m     \u001b[0;32mdef\u001b[0m \u001b[0m__init__\u001b[0m\u001b[0;34m(\u001b[0m\u001b[0mself\u001b[0m\u001b[0;34m,\u001b[0m \u001b[0mname\u001b[0m\u001b[0;34m,\u001b[0m \u001b[0mbases\u001b[0m\u001b[0;34m,\u001b[0m \u001b[0mbody\u001b[0m\u001b[0;34m)\u001b[0m\u001b[0;34m:\u001b[0m\u001b[0;34m\u001b[0m\u001b[0m\n\u001b[1;32m      3\u001b[0m         \u001b[0;32mif\u001b[0m \u001b[0mname\u001b[0m \u001b[0;34m==\u001b[0m \u001b[0;34m'Derived'\u001b[0m\u001b[0;34m:\u001b[0m\u001b[0;34m\u001b[0m\u001b[0m\n\u001b[0;32m----> 4\u001b[0;31m             \u001b[0;32mraise\u001b[0m \u001b[0mValueError\u001b[0m\u001b[0;34m(\u001b[0m\u001b[0;34m\"I don't like that name\"\u001b[0m\u001b[0;34m)\u001b[0m\u001b[0;34m\u001b[0m\u001b[0m\n\u001b[0m\u001b[1;32m      5\u001b[0m         \u001b[0;32mreturn\u001b[0m \u001b[0mtype\u001b[0m\u001b[0;34m.\u001b[0m\u001b[0m__init__\u001b[0m\u001b[0;34m(\u001b[0m\u001b[0mself\u001b[0m\u001b[0;34m,\u001b[0m \u001b[0mname\u001b[0m\u001b[0;34m,\u001b[0m \u001b[0mbases\u001b[0m\u001b[0;34m,\u001b[0m \u001b[0mbody\u001b[0m\u001b[0;34m)\u001b[0m\u001b[0;34m\u001b[0m\u001b[0m\n\u001b[1;32m      6\u001b[0m \u001b[0;34m\u001b[0m\u001b[0m\n",
        "\u001b[0;31mValueError\u001b[0m: I don't like that name"
       ]
      }
     ],
     "prompt_number": 25
    },
    {
     "cell_type": "markdown",
     "metadata": {},
     "source": [
      "You can hook into the construction of base classes with the metaclass's `__new__` and `__init__` methods."
     ]
    },
    {
     "cell_type": "code",
     "collapsed": false,
     "input": [],
     "language": "python",
     "metadata": {},
     "outputs": []
    }
   ],
   "metadata": {}
  }
 ]
}